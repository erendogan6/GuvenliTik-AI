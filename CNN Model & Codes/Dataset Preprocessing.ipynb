{
 "cells": [
  {
   "cell_type": "code",
   "execution_count": 4,
   "id": "62579c88",
   "metadata": {},
   "outputs": [],
   "source": [
    "import pandas as pd  # Import the pandas library, used for data manipulation and analysis."
   ]
  },
  {
   "cell_type": "code",
   "execution_count": null,
   "id": "d78f4fcb",
   "metadata": {},
   "outputs": [],
   "source": [
    "def clean_and_save_csv(input_file_path, output_file_path):\n",
    "    # Load the dataset\n",
    "    # Reads the dataset from input_file_path, assumes no header, and skips bad lines.\n",
    "    df = pd.read_csv(input_file_path, header=None, quotechar='\"', on_bad_lines='skip')\n",
    "\n",
    "    # Function to correct erroneous rows\n",
    "    def fix_quotes(row):\n",
    "        # If the number of double quotes in a row is odd, consider it erroneous.\n",
    "        if row.count('\"') % 2 != 0:\n",
    "            # Remove the last double quote to correct the row.\n",
    "            return row.replace('\"', '', row.count('\"') - 1)\n",
    "        return row\n",
    "\n",
    "    # Apply the fix_quotes function to every row in column 1.\n",
    "    df[1] = df[1].apply(fix_quotes)\n",
    "\n",
    "    # Save the corrected dataset to a new CSV file\n",
    "    # Saves the corrected dataset to the file path specified in output_file_path.\n",
    "    # Saves without index and header.\n",
    "    df.to_csv(output_file_path, index=False, header=False)"
   ]
  },
  {
   "cell_type": "code",
   "execution_count": null,
   "id": "f0a91c8b",
   "metadata": {},
   "outputs": [],
   "source": [
    "# Process both train.csv and test.csv\n",
    "# Takes the 'train.csv' file, cleans it, and saves it as 'updated_train.csv'.\n",
    "clean_and_save_csv('train.csv', 'updated_train.csv')\n",
    "# Takes the 'test.csv' file, cleans it, and saves it as 'updated_test.csv'.\n",
    "clean_and_save_csv('test.csv', 'updated_test.csv')"
   ]
  }
 ],
 "metadata": {
  "kernelspec": {
   "display_name": "Python 3 (ipykernel)",
   "language": "python",
   "name": "python3"
  },
  "language_info": {
   "codemirror_mode": {
    "name": "ipython",
    "version": 3
   },
   "file_extension": ".py",
   "mimetype": "text/x-python",
   "name": "python",
   "nbconvert_exporter": "python",
   "pygments_lexer": "ipython3",
   "version": "3.11.5"
  }
 },
 "nbformat": 4,
 "nbformat_minor": 5
}
