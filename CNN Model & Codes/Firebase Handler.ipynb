{
 "cells": [
  {
   "cell_type": "code",
   "execution_count": null,
   "id": "95d5a3b7",
   "metadata": {},
   "outputs": [],
   "source": [
    "import firebase_admin\n",
    "from firebase_admin import credentials\n",
    "from firebase_admin import firestore\n",
    "\n",
    "from tensorflow.keras.models import load_model\n",
    "from tensorflow.keras.preprocessing.text import Tokenizer\n",
    "from tensorflow.keras.preprocessing.sequence import pad_sequences"
   ]
  },
  {
   "cell_type": "code",
   "execution_count": null,
   "id": "dc347cf6",
   "metadata": {},
   "outputs": [],
   "source": [
    "# Load the model\n",
    "model = load_model('best_model.keras')  # Loads a pre-trained model from the specified file."
   ]
  },
  {
   "cell_type": "code",
   "execution_count": null,
   "id": "77e37785",
   "metadata": {},
   "outputs": [],
   "source": [
    "# Set maximum length and tokenizer settings\n",
    "max_length = 964  # Maximum length of the sequences.\n",
    "tokenizer = Tokenizer(char_level=True)  # Initializes a tokenizer that works at the character level."
   ]
  },
  {
   "cell_type": "code",
   "execution_count": null,
   "id": "9ae0bb31",
   "metadata": {},
   "outputs": [],
   "source": [
    "# Function to load the dataset and train the tokenizer\n",
    "def load_and_train_tokenizer(file_path):\n",
    "    import pandas as pd\n",
    "\n",
    "    try:\n",
    "        df = pd.read_csv(file_path, header=None, quotechar='\"')  # Reads CSV file into a pandas DataFrame.\n",
    "        train_urls = df[1].tolist()  # Converts column 1 into a list of URLs.\n",
    "        tokenizer.fit_on_texts(train_urls)  # Fits the tokenizer on the training URLs.\n",
    "    except pd.errors.ParserError as e:\n",
    "        print(f'ParserError: {e}')  # Prints any parsing errors.\n",
    "\n",
    "load_and_train_tokenizer('updated_train.csv')  # Calls the function with the specified file path."
   ]
  },
  {
   "cell_type": "code",
   "execution_count": null,
   "id": "436f1818",
   "metadata": {},
   "outputs": [],
   "source": [
    "# URL processing function\n",
    "def process_url(url):\n",
    "    sequence = tokenizer.texts_to_sequences([url])  # Converts the URL into a sequence of integers.\n",
    "    padded_sequence = pad_sequences(sequence, maxlen=max_length)  # Pads the sequence to the maximum length.\n",
    "    return padded_sequence\n",
    "\n",
    "# Function to format the prediction result\n",
    "def format_prediction(prediction):\n",
    "    probability = prediction[0][0]  # Extracts the probability from the prediction.\n",
    "    percentage = probability * 100  # Converts the probability to a percentage.\n",
    "    return f\"Probability: %{percentage:.2f}\"  # Formats the percentage with two decimal places.\n",
    "\n",
    "# Function to process the URL and make a prediction\n",
    "def process_and_predict_url(url):\n",
    "    processed_url = process_url(url)  # Processes the URL.\n",
    "    prediction = model.predict(processed_url)  # Predicts the class of the URL.\n",
    "    formatted_prediction = format_prediction(prediction)  # Formats the prediction result.\n",
    "    return formatted_prediction"
   ]
  },
  {
   "cell_type": "code",
   "execution_count": null,
   "id": "6ab0b07e",
   "metadata": {},
   "outputs": [],
   "source": [
    "# Initialize Firebase Admin SDK\n",
    "if not firebase_admin._apps:\n",
    "    cred = credentials.Certificate(\"key.json\")  # Loads Firebase credentials from a JSON file.\n",
    "    firebase_admin.initialize_app(cred)  # Initializes the Firebase Admin app with the credentials.\n",
    "\n",
    "# Get a Firestore instance\n",
    "db = firestore.client()  # Initializes a Firestore client.\n",
    "\n",
    "# Function to listen to data changes in Firestore\n",
    "def on_snapshot(col_snapshot, changes, read_time):\n",
    "    for change in changes:\n",
    "        if change.type.name == 'ADDED' or change.type.name == 'MODIFIED':\n",
    "            doc = change.document  # Gets the changed document.\n",
    "            doc_data = doc.to_dict()  # Converts the document to a dictionary.\n",
    "            if 'result' not in doc_data or doc_data['result'] is None:\n",
    "                url = doc_data.get('url')  # Retrieves the URL from the document.\n",
    "                if url:\n",
    "                    # Process the URL and make a prediction\n",
    "                    print(url)\n",
    "                    prediction_result = process_and_predict_url(url)\n",
    "\n",
    "                    # Write the prediction result to Firestore\n",
    "                    doc.reference.update({'result': prediction_result})\n",
    "\n",
    "# Listen to changes in the 'URLs' collection\n",
    "query = db.collection(u'URL')  # Sets up a query on the 'URL' collection.\n",
    "query_watch = query.on_snapshot(on_snapshot)  # Starts listening to changes in the collection."
   ]
  }
 ],
 "metadata": {
  "kernelspec": {
   "display_name": "Python 3 (ipykernel)",
   "language": "python",
   "name": "python3"
  },
  "language_info": {
   "codemirror_mode": {
    "name": "ipython",
    "version": 3
   },
   "file_extension": ".py",
   "mimetype": "text/x-python",
   "name": "python",
   "nbconvert_exporter": "python",
   "pygments_lexer": "ipython3",
   "version": "3.11.5"
  }
 },
 "nbformat": 4,
 "nbformat_minor": 5
}
